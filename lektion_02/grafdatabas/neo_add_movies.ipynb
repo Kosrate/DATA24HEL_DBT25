{
 "cells": [
  {
   "cell_type": "code",
   "execution_count": 1,
   "metadata": {},
   "outputs": [],
   "source": [
    "import pandas as pd"
   ]
  },
  {
   "cell_type": "code",
   "execution_count": 4,
   "metadata": {},
   "outputs": [],
   "source": [
    "df = pd.read_json(r\"../kunskapskontroll_1/data/movies/movies.json\")"
   ]
  },
  {
   "cell_type": "code",
   "execution_count": 5,
   "metadata": {},
   "outputs": [],
   "source": [
    "df[\"movie_id\"] = df.index + 1"
   ]
  },
  {
   "cell_type": "code",
   "execution_count": 6,
   "metadata": {},
   "outputs": [],
   "source": [
    "df.drop([\"color\", \"num_critic_for_reviews\", \"facenumber_in_poster\", \"num_user_for_reviews\", \"plot_keywords\"], axis=1, inplace=True)"
   ]
  },
  {
   "cell_type": "code",
   "execution_count": 8,
   "metadata": {},
   "outputs": [],
   "source": [
    "genres = pd.DataFrame(df.genres.explode().unique(), columns=[\"genre\"])\n",
    "genres.insert(0, \"genre_id\", genres.index +1)\n",
    "# genres.dropna(axis=0).to_csv(\"movies/genres.csv\", index=False)\n",
    "genres"
   ]
  },
  {
   "cell_type": "code",
   "execution_count": 9,
   "metadata": {},
   "outputs": [],
   "source": [
    "actors = pd.DataFrame(df.actors.explode().unique(), columns=[\"actor_name\"])\n",
    "actors.insert(0, \"actor_id\", actors.index +1)\n",
    "# actors.dropna(axis=0).to_csv(\"movies/actors.csv\", index=False)\n",
    "actors"
   ]
  },
  {
   "cell_type": "code",
   "execution_count": 10,
   "metadata": {},
   "outputs": [],
   "source": [
    "directors = pd.DataFrame(df.director_name.unique(), columns=[\"director_name\"])\n",
    "directors.insert(0, \"director_id\", directors.index +1)\n",
    "# directors.dropna(axis=0).to_csv(\"movies/directors.csv\", index=False)\n",
    "directors"
   ]
  },
  {
   "cell_type": "code",
   "execution_count": 11,
   "metadata": {},
   "outputs": [],
   "source": [
    "df = pd.merge(df, directors, on=\"director_name\")"
   ]
  },
  {
   "cell_type": "code",
   "execution_count": 12,
   "metadata": {},
   "outputs": [],
   "source": [
    "genres_movies = pd.merge(\n",
    "    genres, \n",
    "    df[[\"movie_id\", \"genres\"]]\n",
    "        .explode(\"genres\") # type: ignore\n",
    "        .dropna(axis=0)\n",
    "        .rename(columns={\"genres\": \"genre\"}), on=\"genre\"\n",
    "    )[[\"genre_id\", \"movie_id\"]]\n",
    "\n",
    "genres_movies"
   ]
  },
  {
   "cell_type": "code",
   "execution_count": 13,
   "metadata": {},
   "outputs": [],
   "source": [
    "actors_movies = pd.merge(\n",
    "    actors, \n",
    "    df[[\"movie_id\", \"actors\"]]\n",
    "        .explode(\"actors\") # type: ignore\n",
    "        .dropna(axis=0)\n",
    "        .rename(columns={\"actors\": \"actor_name\"}), on=\"actor_name\"\n",
    "    )[[\"actor_id\", \"movie_id\"]]\n",
    "\n",
    "actors_movies"
   ]
  },
  {
   "cell_type": "code",
   "execution_count": 14,
   "metadata": {},
   "outputs": [],
   "source": [
    "df.dropna(axis=0, subset=[\"director_name\", \"genres\", \"actors\"], inplace=True)\n",
    "df.drop([\"director_name\", \"genres\", \"movie_imdb_link\", \"actors\"], axis=1, inplace=True)\n",
    "df.insert(1, \"director_id\", df.pop(\"director_id\"), allow_duplicates=True)"
   ]
  },
  {
   "cell_type": "code",
   "execution_count": null,
   "metadata": {},
   "outputs": [],
   "source": [
    "df"
   ]
  }
 ],
 "metadata": {
  "kernelspec": {
   "display_name": ".venv",
   "language": "python",
   "name": "python3"
  },
  "language_info": {
   "codemirror_mode": {
    "name": "ipython",
    "version": 3
   },
   "file_extension": ".py",
   "mimetype": "text/x-python",
   "name": "python",
   "nbconvert_exporter": "python",
   "pygments_lexer": "ipython3",
   "version": "3.13.0"
  }
 },
 "nbformat": 4,
 "nbformat_minor": 2
}
