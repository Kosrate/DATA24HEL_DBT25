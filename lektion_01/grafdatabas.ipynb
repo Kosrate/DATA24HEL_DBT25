{
 "cells": [
  {
   "cell_type": "markdown",
   "metadata": {},
   "source": [
    "# Grafdatabas med Neo4j\n",
    "\n",
    "1. Skapa ett konto på [Neo4j](https://neo4j.com/) och skapa en databas.\n",
    "2. Klicka på *Learn* och följ guiderna.\n"
   ]
  },
  {
   "cell_type": "markdown",
   "metadata": {},
   "source": [
    "## Anslut till databasen i en notebook\n",
    "\n",
    "* Installera `neo4j` med `pip` (i en virtuell miljö) eller genom Anaconda.\n",
    "* Ladda ned `.txt`-filen med anslutningsuppgifterna. Ändra cellen nedan så att den läser in din fil istället. Försök gärna förstå vad koden som definierar `URI`- och `AUTH`-variablerna gör."
   ]
  },
  {
   "cell_type": "code",
   "execution_count": 2,
   "metadata": {},
   "outputs": [],
   "source": [
    "from neo4j import GraphDatabase"
   ]
  },
  {
   "cell_type": "code",
   "execution_count": 3,
   "metadata": {},
   "outputs": [],
   "source": [
    "# Create connection variables from .txt file\n",
    "\n",
    "with open(\"Neo4j-1dd01ce2-Created-2025-01-29.txt\", \"r\") as f:\n",
    "    lines = f.readlines()\n",
    "\n",
    "URI = lines[1].split(\"=\")[-1].strip()\n",
    "AUTH = (lines[2].split(\"=\")[-1].strip(), lines[3].split(\"=\")[-1].strip())"
   ]
  },
  {
   "cell_type": "code",
   "execution_count": 9,
   "metadata": {},
   "outputs": [],
   "source": [
    "with GraphDatabase.driver(URI, auth=AUTH) as driver:\n",
    "    driver.verify_connectivity()"
   ]
  },
  {
   "cell_type": "markdown",
   "metadata": {},
   "source": [
    "### Lägg till data\n",
    "\n",
    "För att ladda in filmdata i din databas, ändra `add_data` till `True` och kör cellen nedan. \n",
    "\n",
    "Se till att filen `movies.cql` finns i samma mapp som notebooken."
   ]
  },
  {
   "cell_type": "code",
   "execution_count": 16,
   "metadata": {},
   "outputs": [],
   "source": [
    "add_data = False\n",
    "if add_data:\n",
    "    queries = [r for r in open(\"movies.cql\", \"r\").readlines() if r != \"\"]\n",
    "    with GraphDatabase.driver(URI, auth=AUTH) as driver:\n",
    "        with driver.session() as session:\n",
    "            for query in queries:\n",
    "                if query != \"\" and not query.startswith(\"//\"):\n",
    "                    session.run(query) # type: ignore"
   ]
  },
  {
   "cell_type": "markdown",
   "metadata": {},
   "source": [
    "### Ta bort data\n",
    "\n",
    "För att ta bort alla data i din databas, ändre `delete_data` till `True` och kör cellen nedan."
   ]
  },
  {
   "cell_type": "code",
   "execution_count": 17,
   "metadata": {},
   "outputs": [],
   "source": [
    "delete_data = False\n",
    "if delete_data:\n",
    "    with GraphDatabase.driver(URI, auth=AUTH) as driver:\n",
    "        with driver.session() as session:\n",
    "            session.run(\"MATCH (n) DETACH DELETE n\")"
   ]
  }
 ],
 "metadata": {
  "kernelspec": {
   "display_name": ".venv",
   "language": "python",
   "name": "python3"
  },
  "language_info": {
   "codemirror_mode": {
    "name": "ipython",
    "version": 3
   },
   "file_extension": ".py",
   "mimetype": "text/x-python",
   "name": "python",
   "nbconvert_exporter": "python",
   "pygments_lexer": "ipython3",
   "version": "3.13.0"
  }
 },
 "nbformat": 4,
 "nbformat_minor": 2
}
