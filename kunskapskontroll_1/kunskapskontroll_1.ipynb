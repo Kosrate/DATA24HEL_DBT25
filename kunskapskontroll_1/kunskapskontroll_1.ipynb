{
 "cells": [
  {
   "cell_type": "markdown",
   "metadata": {},
   "source": [
    "# Kunskapskontroll 1\n",
    "## Databastyper\n",
    "\n",
    "**OBS!** Alla uppgifter som inte står under rubriken **Väl godkänt** krävs för **Godkänt** på kunskapskontrollen.\n"
   ]
  },
  {
   "cell_type": "markdown",
   "metadata": {},
   "source": [
    "1. Förklara övergripande vad NoSQL är.\n"
   ]
  },
  {
   "cell_type": "markdown",
   "metadata": {},
   "source": [
    "Svar:"
   ]
  },
  {
   "cell_type": "code",
   "execution_count": null,
   "metadata": {},
   "outputs": [],
   "source": [
    "Svar: \n",
    "NoSQL är en typ av databashanteringssystem som skiljer sig från traditionella relationsdatabaser (SQL) \n",
    "genom att inte använda sig av tabeller och SQL för att lagra och hämta data. \n",
    "NoSQL-databaser är designade för att hantera stora mängder ostrukturerad eller semi-strukturerad data och är ofta mer flexibla och skalbara än relationsdatabaser. \n",
    "De kan hantera olika datatyper som dokument, nyckel-värde-par, grafstrukturer och breda kolumner. \n",
    "NoSQL-databaser används ofta i applikationer som kräver snabb åtkomst till stora datamängder, som sociala nätverk, realtidsanalys och IoT."
   ]
  },
  {
   "cell_type": "markdown",
   "metadata": {},
   "source": [
    "2. Vilken typ av data kan en NoSQL-databas hantera som inte en\n",
    "relationell databas kan?\n"
   ]
  },
  {
   "cell_type": "markdown",
   "metadata": {},
   "source": [
    "Svar: "
   ]
  },
  {
   "cell_type": "code",
   "execution_count": null,
   "metadata": {
    "vscode": {
     "languageId": "markdown"
    }
   },
   "outputs": [],
   "source": [
    "Svar: \n",
    "En NoSQL-databas kan hantera ostrukturerad och semi-strukturerad data som inte passar väl in i tabellformatet som används av relationella databaser. Exempel på sådan data inkluderar:\n",
    "\n",
    "- Dokument (t.ex. JSON, BSON)\n",
    "- Nyckel-värde-par\n",
    "- Grafstrukturer\n",
    "- Bredkolumner\n",
    "\n",
    "Dessa datatyper tillåter mer flexibilitet och skalbarhet, vilket gör NoSQL-databaser lämpliga för applikationer som kräver snabb åtkomst till stora mängder varierande data, \n",
    "som sociala nätverk, realtidsanalys och IoT."
   ]
  },
  {
   "cell_type": "markdown",
   "metadata": {},
   "source": [
    "3. Beskriv kortfattat vad en nyckel/värde-databas är.\n"
   ]
  },
  {
   "cell_type": "markdown",
   "metadata": {},
   "source": [
    "Svar:"
   ]
  },
  {
   "cell_type": "code",
   "execution_count": null,
   "metadata": {
    "vscode": {
     "languageId": "markdown"
    }
   },
   "outputs": [],
   "source": [
    "Svar: \n",
    "En nyckel/värde-databas är en typ av NoSQL-databas som lagrar data som nyckel-värde-par. \n",
    "Varje nyckel är unik och används för att identifiera det tillhörande värdet, \n",
    "vilket kan vara en enkel datatyp eller en mer komplex datastruktur. \n",
    "Denna typ av databas är mycket snabb och skalbar, \n",
    "vilket gör den lämplig för applikationer som kräver snabb åtkomst till stora mängder data, som caching och sessionhantering."
   ]
  },
  {
   "cell_type": "markdown",
   "metadata": {},
   "source": [
    "4. Beskriv kortfattat vad en dokumentdatabas är.\n"
   ]
  },
  {
   "cell_type": "markdown",
   "metadata": {},
   "source": [
    "Svar:"
   ]
  },
  {
   "cell_type": "code",
   "execution_count": null,
   "metadata": {
    "vscode": {
     "languageId": "markdown"
    }
   },
   "outputs": [],
   "source": [
    "En dokumentdatabas är en typ av NoSQL-databas som lagrar data i form av dokument, vanligtvis i format som JSON, BSON eller XML. \n",
    "Varje dokument innehåller data i ett strukturerat format och kan ha olika fält och datatyper. \n",
    "Dokumentdatabaser är flexibla och kan hantera komplexa och varierande datastrukturer, \n",
    "vilket gör dem lämpliga för applikationer som kräver snabb åtkomst till stora mängder ostrukturerad eller semi-strukturerad data, \n",
    "som innehållshanteringssystem och e-handelsplattformar."
   ]
  },
  {
   "cell_type": "markdown",
   "metadata": {},
   "source": [
    "5. Beskriv kortfattat vad en bredkolumndatabas är.\n"
   ]
  },
  {
   "cell_type": "markdown",
   "metadata": {},
   "source": [
    "Svar:"
   ]
  },
  {
   "cell_type": "code",
   "execution_count": null,
   "metadata": {
    "vscode": {
     "languageId": "markdown"
    }
   },
   "outputs": [],
   "source": [
    "En bredkolumndatabas är en typ av NoSQL-databas som lagrar data i tabellformat, \n",
    "men till skillnad från traditionella relationsdatabaser kan varje rad ha ett varierande antal kolumner. \n",
    "Data organiseras i kolumnfamiljer, vilket gör det möjligt att lagra stora mängder data effektivt och snabbt hämta specifika kolumner. \n",
    "Bredkolumndatabaser är särskilt användbara för applikationer som kräver hög skalbarhet och prestanda, som realtidsanalys och stora datalager. \n",
    "Exempel på bredkolumndatabaser inkluderar Apache Cassandra och HBase."
   ]
  },
  {
   "cell_type": "markdown",
   "metadata": {},
   "source": [
    "\n",
    "6. Beskriv kortfattat vad en grafdatabas är."
   ]
  },
  {
   "cell_type": "markdown",
   "metadata": {},
   "source": [
    "Svar:"
   ]
  },
  {
   "cell_type": "code",
   "execution_count": null,
   "metadata": {
    "vscode": {
     "languageId": "markdown"
    }
   },
   "outputs": [],
   "source": [
    "En grafdatabas är en typ av NoSQL-databas som använder grafteori för att lagra, hämta och hantera data. \n",
    "Den representerar data som noder (entiteter) och kanter (relationer) mellan noderna. \n",
    "Grafdatabaser är särskilt användbara för att modellera och analysera komplexa relationer och nätverk, \n",
    "som sociala nätverk, rekommendationssystem och bedrägeridetektion. Exempel på grafdatabaser inkluderar Neo4j och Amazon Neptune."
   ]
  },
  {
   "cell_type": "markdown",
   "metadata": {},
   "source": [
    "### Nyckel/värdedatabas\n",
    "\n",
    "Lägg till datan i filen `kunskapskontroll_1/data/northwind/orders.csv` i en Redis-databas."
   ]
  },
  {
   "cell_type": "code",
   "execution_count": null,
   "metadata": {},
   "outputs": [],
   "source": [
    "import redis\n",
    "import pandas as pd\n",
    "\n",
    "# Anslut till Redis\n",
    "redis_client = redis.StrictRedis(host='localhost', port=6379, db=0, decode_responses=True)\n",
    "\n",
    "# Ladda in CSV-filen\n",
    "file_path = \"C:/Users/stewe/source/repos/DATA24HEL_DBT25/kunskapskontroll_1/data/northwind/orders.csv\"\n",
    "df = pd.read_csv(file_path)\n",
    "\n",
    "# Ersätt NaN-värden med tomma strängar\n",
    "df = df.fillna(\"\")\n",
    "\n",
    "# Iterera över varje rad och lägg in datan i Redis\n",
    "for _, row in df.iterrows():\n",
    "    order_id = row['OrderID']\n",
    "    order_key = f\"order:{order_id}\"\n",
    "    \n",
    "    redis_client.hmset(order_key, {\n",
    "        \"OrderDate\": str(row[\"OrderDate\"]),\n",
    "        \"RequiredDate\": str(row[\"RequiredDate\"]),\n",
    "        \"ShippedDate\": str(row[\"ShippedDate\"]),\n",
    "        \"ShipName\": str(row[\"ShipName\"]),\n",
    "        \"ShipCountry\": str(row[\"ShipCountry\"]),\n",
    "        \"ShipRegion\": str(row[\"ShipRegion\"]),\n",
    "        \"ShipCity\": str(row[\"ShipCity\"]),\n",
    "        \"ShipPostalCode\": str(row[\"ShipPostalCode\"]),\n",
    "        \"ShipAddress\": str(row[\"ShipAddress\"])\n",
    "    })\n",
    "\n",
    "print(\"Orderdata har lagts till i Redis!\")\n"
   ]
  },
  {
   "cell_type": "markdown",
   "metadata": {},
   "source": [
    "Ge ett exempel på hur vad man kan använda Redis-databasen du skapat till:"
   ]
  },
  {
   "cell_type": "markdown",
   "metadata": {},
   "source": [
    "Svar: "
   ]
  },
  {
   "cell_type": "code",
   "execution_count": null,
   "metadata": {},
   "outputs": [],
   "source": [
    "def get_order_details(order_id):\n",
    "    order_key = f\"order:{order_id}\"\n",
    "    order_details = redis_client.hgetall(order_key)\n",
    "    return order_details\n",
    "\n",
    "# Example usage\n",
    "order_id = 10248\n",
    "order_details = get_order_details(order_id)\n",
    "print(order_details)"
   ]
  },
  {
   "cell_type": "markdown",
   "metadata": {},
   "source": [
    "### Dokumentdatabas\n",
    "\n",
    "I mappen `kunskapskontroll_1/data/northwind/` finns filerna `products.csv` och `suppliers.json`.\n",
    "\n",
    "Slå ihop `products.csv` och `suppliers.json` på ett passande sätt och spara dem som en dokumentdatabas i MongoDB.\n",
    "\n",
    "#### Godkänt\n",
    "Ta reda på:\n",
    "* vilka produkter som behöver beställas (`ReorderLevel` $\\gt$ `UnitsInStock` $ + $ `UnitsOnOrder`)\n",
    "* vem man ska kontakta för att beställa fler, och\n",
    "* hur man kontaktar personen\n"
   ]
  },
  {
   "cell_type": "code",
   "execution_count": null,
   "metadata": {},
   "outputs": [],
   "source": [
    "from pymongo import MongoClient\n",
    "import pandas as pd\n",
    "\n",
    "# Anslut till MongoDB\n",
    "client = MongoClient(\"mongodb://localhost:27017/\")\n",
    "db = client[\"northwind\"]  # Skapa eller anslut till databasen \"northwind\"\n",
    "collection = db[\"products\"]  # Skapa eller anslut till collection \"products\"\n",
    "\n",
    "# Ladda in data\n",
    "products_df = pd.read_csv(r\"C:\\Users\\stewe\\source\\repos\\DATA24HEL_DBT25\\kunskapskontroll_1\\data\\northwind\\products.csv\")\n",
    "suppliers_df = pd.read_json(r\"C:\\Users\\stewe\\source\\repos\\DATA24HEL_DBT25\\kunskapskontroll_1\\data\\northwind\\suppliers.json\")\n",
    "\n",
    "# Slå ihop data\n",
    "merged_df = products_df.merge(suppliers_df, on=\"SupplierID\", how=\"left\")\n",
    "\n",
    "# Konvertera till JSON och lagra i MongoDB\n",
    "records = merged_df.to_dict(orient=\"records\")\n",
    "collection.insert_many(records)\n",
    "\n",
    "print(\"Data har lagrats i MongoDB!\")\n",
    "\n",
    "# Funktion för att hitta produkter som behöver beställas\n",
    "def find_products_to_reorder():\n",
    "    query = {\"ReorderLevel\": {\"$gt\": {\"$add\": [\"$UnitsInStock\", \"$UnitsOnOrder\"]}}}\n",
    "    products = list(collection.find(query, {\"ProductName\": 1, \"CompanyName\": 1, \"ContactName\": 1, \"Phone\": 1}))\n",
    "    \n",
    "    if products:\n",
    "        print(\"Produkter som behöver beställas:\")\n",
    "        for product in products:\n",
    "            print(f\"- {product['ProductName']} (Leverantör: {product['CompanyName']}, Kontakt: {product['ContactName']}, Tel: {product['Phone']})\")\n",
    "    else:\n",
    "        print(\"Inga produkter behöver beställas just nu.\")\n",
    "\n",
    "# Kör frågan\n",
    "find_products_to_reorder()\n",
    "\n",
    "# Stäng anslutningen\n",
    "client.close()\n"
   ]
  },
  {
   "cell_type": "markdown",
   "metadata": {},
   "source": [
    "\n",
    "#### Väl godkänt\n",
    "Skapa en Streamlit-app som visar produkter som behöver beställas och talar om vem man ska ringa för att beställa fler. Appen kan vara en enkel lista över produkter, eller innehålla fler funktioner (QR-kod-scanner?)."
   ]
  },
  {
   "cell_type": "code",
   "execution_count": null,
   "metadata": {},
   "outputs": [],
   "source": []
  },
  {
   "cell_type": "markdown",
   "metadata": {},
   "source": [
    "### Grafdatabas\n",
    "**OBS** Fråga 1-3 nedan är desamma för både Godkänt och Väl godkänt. Det som skiljer sig är hur du väljer att skapa databasen samt fråga 4.\n",
    "\n",
    "#### Godkänt\n",
    "* Läs in `csv`-filerna i `kunskapskontroll_1/data/movies/prepared/` i Neo4j och skapa en datamodell.\n",
    "* Svara på frågorna och utför instruktionerna nedan. Klistra in dina svar som JSON eller bilder, beroende på om svaret är i data- eller graf-form.\n",
    "    1. Vilka är de 10 vanligaste kombinationerna av genrer?\n",
    "    2. Vilka är de fem vanligaste genrerna på filmer regisserade av Steven Spielberg, och hur många filmer är i de genrerna?\n",
    "    3. Det verkar som om de har missat att Viggo Mortensen är med i Sagan om Ringen-filmerna. Skapa `[:ACTED_IN]`-relationer mellan Viggo och alla tre *The Lord of the Rings*-filmerna. Visa en graf med Viggo i mitten och relationer till de tre filmerna.\n",
    "\n",
    "#### Väl godkänt\n",
    "* Bearbeta datan i `kunskapskontroll_1/data/movies/movies.json` så att den passar till att läsas in i Neo4j. Processen ska gå att följa i kodceller i notebooken. Du får gärna titta på filerna i `kunskapskontroll_1/data/movies/prepared/` för att få en idé om hur resultatet ska se ut.\n",
    "* Läs in data in Neo4j.\n",
    "* Svara på frågorna och utför instruktionerna nedan. Klistra in dina svar som JSON eller bilder, beroende på om svaret är i data- eller graf-form.\n",
    "    1. Vilka är de 10 vanligaste kombinationerna av genrer?\n",
    "    2. Vilka är de fem vanligaste genrerna på filmer regisserade av Steven Spielberg, och hur många filmer är i de genrerna?\n",
    "    3. Det verkar som om de har missat att Viggo Mortensen är med i Sagan om Ringen-filmerna. Skapa `[:ACTED_IN]`-relationer mellan Viggo och alla tre *The Lord of the Rings*-filmerna. Visa en graf med Viggo i mitten och relationer till de tre filmerna.\n",
    "    4. Hitta på minst en egen fråga och svara på den.\n",
    "\n"
   ]
  },
  {
   "cell_type": "code",
   "execution_count": null,
   "metadata": {},
   "outputs": [],
   "source": [
    "import os\n",
    "print(os.listdir())\n",
    "\n",
    "%pip install networkx matplotlib"
   ]
  },
  {
   "cell_type": "code",
   "execution_count": 10,
   "metadata": {},
   "outputs": [
    {
     "name": "stdout",
     "output_type": "stream",
     "text": [
      "\n",
      "Topp 10 genre-kombinationer:\n",
      "genre\n",
      "(Drama,)                            233\n",
      "(Comedy,)                           205\n",
      "(Comedy, Drama)                     189\n",
      "(Comedy, Drama, Romance)            185\n",
      "(Comedy, Romance)                   157\n",
      "(Drama, Romance)                    150\n",
      "(Crime, Drama, Thriller)             98\n",
      "(Horror,)                            67\n",
      "(Action, Crime, Drama, Thriller)     65\n",
      "(Crime, Drama)                       63\n",
      "Name: count, dtype: int64\n",
      "\n",
      "Topp 5 genrer i Spielberg-filmer:\n",
      "genre\n",
      "Drama        13\n",
      "Adventure    12\n",
      "Action        9\n",
      "Sci-Fi        7\n",
      "Thriller      6\n",
      "Name: count, dtype: int64\n",
      "\n",
      "Viggo Mortensen och Sagan om Ringen-filmer:\n",
      "   actor_id  movie_id\n",
      "0       794       248\n",
      "1       794       307\n",
      "2       794       308\n",
      "\n",
      "Skådespelaren med flest filmer: Robert De Niro ( 53 filmer )\n",
      "\n",
      "Regissören med högst IMDb-score: Sadyk Sher-Niyaz ( 8.7 )\n",
      "\n",
      "Mest filmrika årtiondet: 2000 ( 2039 filmer )\n",
      "\n",
      "Genren med högst IMDb-score: Film-Noir ( 7.63 )\n"
     ]
    },
    {
     "data": {
      "image/png": "[encoded data removed]",
      "text/plain": [
       "<Figure size 800x500 with 1 Axes>"
      ]
     },
     "metadata": {},
     "output_type": "display_data"
    }
   ],
   "source": [
    "import pandas as pd\n",
    "import networkx as nx\n",
    "import matplotlib.pyplot as plt\n",
    "\n",
    "\n",
    "# === 1. Ladda in CSV-filer ===\n",
    "file_paths = {\n",
    "    \"directors\": r\"C:\\Users\\stewe\\source\\repos\\DATA24HEL_DBT25\\kunskapskontroll_1\\data\\movies\\prepared\\directors.csv\",\n",
    "    \"genres\": r\"C:\\Users\\stewe\\source\\repos\\DATA24HEL_DBT25\\kunskapskontroll_1\\data\\movies\\prepared\\genres.csv\",\n",
    "    \"genres_movies\": r\"C:\\Users\\stewe\\source\\repos\\DATA24HEL_DBT25\\kunskapskontroll_1\\data\\movies\\prepared\\genres_movies.csv\",\n",
    "    \"movies\": r\"C:\\Users\\stewe\\source\\repos\\DATA24HEL_DBT25\\kunskapskontroll_1\\data\\movies\\prepared\\movies.csv\",\n",
    "    \"actors\": r\"C:\\Users\\stewe\\source\\repos\\DATA24HEL_DBT25\\kunskapskontroll_1\\data\\movies\\prepared\\actors.csv\",\n",
    "    \"actors_movies\": r\"C:\\Users\\stewe\\source\\repos\\DATA24HEL_DBT25\\kunskapskontroll_1\\data\\movies\\prepared\\actors_movies.csv\",\n",
    "}\n",
    "\n",
    "dataframes = {name: pd.read_csv(path) for name, path in file_paths.items()}\n",
    "\n",
    "# === 2. Identifiera de 10 vanligaste genre-kombinationerna ===\n",
    "genres_movies = dataframes[\"genres_movies\"].merge(dataframes[\"genres\"], on=\"genre_id\", how=\"left\")\n",
    "movie_genres = genres_movies.groupby(\"movie_id\")[\"genre\"].apply(lambda x: tuple(sorted(x))).reset_index()\n",
    "genre_combinations = movie_genres[\"genre\"].value_counts().head(10)\n",
    "print(\"\\nTopp 10 genre-kombinationer:\")\n",
    "print(genre_combinations)\n",
    "\n",
    "# === 3. Fem vanligaste genrerna i Steven Spielbergs filmer ===\n",
    "spielberg_id = dataframes[\"directors\"].loc[dataframes[\"directors\"][\"director_name\"] == \"Steven Spielberg\", \"director_id\"]\n",
    "if not spielberg_id.empty:\n",
    "    spielberg_id = spielberg_id.values[0]\n",
    "    spielberg_movies = dataframes[\"movies\"].loc[dataframes[\"movies\"][\"director_id\"] == spielberg_id, \"movie_id\"]\n",
    "    spielberg_genres = genres_movies.loc[genres_movies[\"movie_id\"].isin(spielberg_movies), \"genre\"]\n",
    "    top_spielberg_genres = spielberg_genres.value_counts().head(5)\n",
    "    print(\"\\nTopp 5 genrer i Spielberg-filmer:\")\n",
    "    print(top_spielberg_genres)\n",
    "\n",
    "# === 4. Koppling mellan Viggo Mortensen och Sagan om Ringen-filmer ===\n",
    "viggo_id = dataframes[\"actors\"].loc[dataframes[\"actors\"][\"actor_name\"] == \"Viggo Mortensen\", \"actor_id\"]\n",
    "if not viggo_id.empty:\n",
    "    viggo_id = viggo_id.values[0]\n",
    "    lotr_movies = dataframes[\"movies\"].loc[dataframes[\"movies\"][\"movie_title\"].str.contains(\"Lord of the Rings\", case=False, na=False)]\n",
    "    lotr_movie_ids = lotr_movies[\"movie_id\"].tolist()\n",
    "    viggo_lotr_connections = pd.DataFrame({\"actor_id\": [viggo_id] * len(lotr_movie_ids), \"movie_id\": lotr_movie_ids})\n",
    "    print(\"\\nViggo Mortensen och Sagan om Ringen-filmer:\")\n",
    "    print(viggo_lotr_connections)\n",
    "\n",
    "# === 5. Extra analyser ===\n",
    "## 5.1. Skådespelaren med flest filmer\n",
    "top_actor_movies = dataframes[\"actors_movies\"][\"actor_id\"].value_counts().head(1)\n",
    "top_actor = dataframes[\"actors\"].loc[dataframes[\"actors\"][\"actor_id\"] == top_actor_movies.index[0], \"actor_name\"].values[0]\n",
    "print(\"\\nSkådespelaren med flest filmer:\", top_actor, \"(\", int(top_actor_movies.values[0]), \"filmer )\")\n",
    "\n",
    "## 5.2. Regissören med högst genomsnittlig IMDb-score\n",
    "director_movies = dataframes[\"movies\"].groupby(\"director_id\")[\"imdb_score\"].mean()\n",
    "top_director_id = director_movies.idxmax()\n",
    "top_director = dataframes[\"directors\"].loc[dataframes[\"directors\"][\"director_id\"] == top_director_id, \"director_name\"].values[0]\n",
    "print(\"\\nRegissören med högst IMDb-score:\", top_director, \"(\", round(director_movies.max(), 2), \")\")\n",
    "\n",
    "## 5.3. Årtiondet med flest filmer\n",
    "dataframes[\"movies\"][\"decade\"] = (dataframes[\"movies\"][\"title_year\"] // 10) * 10\n",
    "decade_counts = dataframes[\"movies\"][\"decade\"].value_counts().head(1)\n",
    "print(\"\\nMest filmrika årtiondet:\", int(decade_counts.index[0]), \"(\", int(decade_counts.values[0]), \"filmer )\")\n",
    "\n",
    "## 5.4. Genren med högst genomsnittlig IMDb-score\n",
    "genre_scores = genres_movies.merge(dataframes[\"movies\"], on=\"movie_id\", how=\"left\")\n",
    "top_genre_avg_score = genre_scores.groupby(\"genre\")[\"imdb_score\"].mean().idxmax()\n",
    "print(\"\\nGenren med högst IMDb-score:\", top_genre_avg_score, \"(\", round(genre_scores.groupby(\"genre\")[\"imdb_score\"].mean().max(), 2), \")\")\n",
    "\n",
    "# === 6. Grafvisualisering av Viggo Mortensen och Sagan om Ringen-filmer ===\n",
    "G = nx.Graph()\n",
    "G.add_node(\"Viggo Mortensen\", color=\"red\")\n",
    "for movie in lotr_movies[\"movie_title\"]:\n",
    "    G.add_node(movie, color=\"blue\")\n",
    "    G.add_edge(\"Viggo Mortensen\", movie)\n",
    "\n",
    "colors = [G.nodes[n][\"color\"] for n in G.nodes]\n",
    "plt.figure(figsize=(8, 5))\n",
    "nx.draw(G, with_labels=True, node_color=colors, edge_color=\"gray\", node_size=3000, font_size=10)\n",
    "plt.title(\"Viggo Mortensen och Sagan om Ringen-filmer\")\n",
    "plt.show()\n"
   ]
  },
  {
   "cell_type": "markdown",
   "metadata": {},
   "source": [
    "## Vad ska lämnas in på Learnpoint?\n",
    "\n",
    "Deadline: 14/2 kl. 17.00\n",
    "\n",
    "En länk till ett Github-repository som innehåller:\n",
    "* en kopia av den här notebooken med dina svar på uppgifterna. **Använd kod-celler för kod och markdown-celler för text!**\n",
    "* bilder på grafer så att de kan visas i notebooken\n",
    "* VG: om du gjort en Streamlit-app i dokumentdatabas-delen ska där också finnas en `app.py` eller motsvarande med koden för appen.\n",
    "\n",
    "That's it!"
   ]
  }
 ],
 "metadata": {
  "kernelspec": {
   "display_name": "Python 3",
   "language": "python",
   "name": "python3"
  },
  "language_info": {
   "codemirror_mode": {
    "name": "ipython",
    "version": 3
   },
   "file_extension": ".py",
   "mimetype": "text/x-python",
   "name": "python",
   "nbconvert_exporter": "python",
   "pygments_lexer": "ipython3",
   "version": "3.12.6"
  }
 },
 "nbformat": 4,
 "nbformat_minor": 2
}
